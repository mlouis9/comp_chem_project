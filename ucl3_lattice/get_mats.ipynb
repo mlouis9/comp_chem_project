{
 "cells": [
  {
   "cell_type": "code",
   "execution_count": 10,
   "id": "5248720d",
   "metadata": {},
   "outputs": [
    {
     "name": "stderr",
     "output_type": "stream",
     "text": [
      "/tmp/ipykernel_99480/3605714726.py:4: DeprecationWarning: get_data_by_id is deprecated and will be removed soon. Please use the search method instead.\n",
      "  doc = mpr.materials.get_data_by_id(\"mp-23208\")\n",
      "Retrieving MaterialsDoc documents: 100%|██████████| 1/1 [00:00<00:00, 5629.94it/s]"
     ]
    },
    {
     "name": "stdout",
     "output_type": "stream",
     "text": [
      "&CELL\n",
      "  ABC 7.527791 7.520283 4.286130\n",
      "  ANGLES 90.00 90.00 120.18\n",
      "  UNIT ANGSTROM\n",
      "&END CELL\n",
      "\n",
      "&COORD\n",
      "  U 3.775707 2.137188 3.214598\n",
      "  U 0.012430 4.314621 1.071533\n",
      "  Cl 1.960058 4.535432 3.214598\n",
      "  Cl 4.577383 3.977498 1.071533\n",
      "  Cl 1.772946 1.985228 1.071533\n",
      "  Cl -0.831039 2.521968 3.214598\n",
      "  Cl -1.148209 5.942991 3.214598\n",
      "  Cl 4.912297 0.565978 1.071533\n",
      "&END COORD\n"
     ]
    },
    {
     "name": "stderr",
     "output_type": "stream",
     "text": [
      "\n"
     ]
    }
   ],
   "source": [
    "from mp_api.client import MPRester\n",
    "\n",
    "with MPRester(api_key=\"HOxG5bPFdl8sbOhJdKMUb8Yqx2rIeFJS\") as mpr:\n",
    "    doc = mpr.materials.get_data_by_id(\"mp-23208\")\n",
    "    structure = doc.structure\n",
    "\n",
    "# Print CP2K-style CELL block\n",
    "print(\"&CELL\")\n",
    "print(f\"  ABC {structure.lattice.a:.6f} {structure.lattice.b:.6f} {structure.lattice.c:.6f}\")\n",
    "print(f\"  ANGLES {structure.lattice.alpha:.2f} {structure.lattice.beta:.2f} {structure.lattice.gamma:.2f}\")\n",
    "print(\"  UNIT ANGSTROM\")\n",
    "print(\"&END CELL\\n\")\n",
    "\n",
    "# Print CP2K-style COORD block\n",
    "print(\"&COORD\")\n",
    "for site in structure:\n",
    "    print(f\"  {site.species_string} {site.x:.6f} {site.y:.6f} {site.z:.6f}\")\n",
    "print(\"&END COORD\")\n"
   ]
  }
 ],
 "metadata": {
  "kernelspec": {
   "display_name": "mp_api",
   "language": "python",
   "name": "python3"
  },
  "language_info": {
   "codemirror_mode": {
    "name": "ipython",
    "version": 3
   },
   "file_extension": ".py",
   "mimetype": "text/x-python",
   "name": "python",
   "nbconvert_exporter": "python",
   "pygments_lexer": "ipython3",
   "version": "3.11.12"
  }
 },
 "nbformat": 4,
 "nbformat_minor": 5
}
